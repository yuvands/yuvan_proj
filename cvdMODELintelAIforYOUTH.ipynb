{
 "cells": [
  {
   "cell_type": "code",
   "execution_count": 5,
   "metadata": {},
   "outputs": [],
   "source": [
    "import pandas as pd\n",
    "import numpy as np\n",
    "import matplotlib.pyplot as plt"
   ]
  },
  {
   "cell_type": "code",
   "execution_count": 2,
   "metadata": {
    "scrolled": true
   },
   "outputs": [
    {
     "ename": "FileNotFoundError",
     "evalue": "[Errno 2] File b'C:/Users/Yuvan/Desktop/INTEL AI bootcamp/MAIN PROJECT/Yuvan DS/cvd.csv' does not exist: b'C:/Users/Yuvan/Desktop/INTEL AI bootcamp/MAIN PROJECT/Yuvan DS/cvd.csv'",
     "output_type": "error",
     "traceback": [
      "\u001b[1;31m---------------------------------------------------------------------------\u001b[0m",
      "\u001b[1;31mFileNotFoundError\u001b[0m                         Traceback (most recent call last)",
      "\u001b[1;32m<ipython-input-2-c1cf25fa9cef>\u001b[0m in \u001b[0;36m<module>\u001b[1;34m\u001b[0m\n\u001b[0;32m      1\u001b[0m \u001b[1;31m#To read the CSV to the dataframe\u001b[0m\u001b[1;33m\u001b[0m\u001b[1;33m\u001b[0m\u001b[1;33m\u001b[0m\u001b[0m\n\u001b[1;32m----> 2\u001b[1;33m \u001b[0mdf\u001b[0m \u001b[1;33m=\u001b[0m \u001b[0mpd\u001b[0m\u001b[1;33m.\u001b[0m\u001b[0mread_csv\u001b[0m\u001b[1;33m(\u001b[0m\u001b[1;34m\"C:/Users/Yuvan/Desktop/INTEL AI bootcamp/MAIN PROJECT/Yuvan DS/cvd.csv\"\u001b[0m\u001b[1;33m)\u001b[0m\u001b[1;33m\u001b[0m\u001b[1;33m\u001b[0m\u001b[0m\n\u001b[0m\u001b[0;32m      3\u001b[0m \u001b[0mnames\u001b[0m \u001b[1;33m=\u001b[0m \u001b[1;33m[\u001b[0m\u001b[1;34m\"age\"\u001b[0m\u001b[1;33m,\u001b[0m\u001b[1;34m\"sex\"\u001b[0m\u001b[1;33m,\u001b[0m\u001b[1;34m\"cp\"\u001b[0m\u001b[1;33m,\u001b[0m\u001b[1;34m\"trestbps\"\u001b[0m\u001b[1;33m,\u001b[0m\u001b[1;34m\"chol\"\u001b[0m\u001b[1;33m,\u001b[0m\u001b[1;34m\"fbs\"\u001b[0m\u001b[1;33m,\u001b[0m\u001b[1;34m\"restecg\"\u001b[0m\u001b[1;33m,\u001b[0m\u001b[1;34m\"thalach\"\u001b[0m\u001b[1;33m,\u001b[0m\u001b[1;34m\"exang\"\u001b[0m\u001b[1;33m,\u001b[0m\u001b[1;34m\"oldpeak\"\u001b[0m\u001b[1;33m,\u001b[0m\u001b[1;34m\"ca\"\u001b[0m\u001b[1;33m,\u001b[0m\u001b[1;34m\"thal\"\u001b[0m\u001b[1;33m,\u001b[0m\u001b[1;34m\"heart_disease\"\u001b[0m\u001b[1;33m]\u001b[0m\u001b[1;33m\u001b[0m\u001b[1;33m\u001b[0m\u001b[0m\n\u001b[0;32m      4\u001b[0m \u001b[0mdf\u001b[0m\u001b[1;33m.\u001b[0m\u001b[0mcolumns\u001b[0m \u001b[1;33m=\u001b[0m \u001b[0mnames\u001b[0m\u001b[1;33m\u001b[0m\u001b[1;33m\u001b[0m\u001b[0m\n\u001b[0;32m      5\u001b[0m \u001b[1;31m#Print and check the data using head command\u001b[0m\u001b[1;33m\u001b[0m\u001b[1;33m\u001b[0m\u001b[1;33m\u001b[0m\u001b[0m\n",
      "\u001b[1;32m~\\Anaconda3\\lib\\site-packages\\pandas\\io\\parsers.py\u001b[0m in \u001b[0;36mparser_f\u001b[1;34m(filepath_or_buffer, sep, delimiter, header, names, index_col, usecols, squeeze, prefix, mangle_dupe_cols, dtype, engine, converters, true_values, false_values, skipinitialspace, skiprows, skipfooter, nrows, na_values, keep_default_na, na_filter, verbose, skip_blank_lines, parse_dates, infer_datetime_format, keep_date_col, date_parser, dayfirst, iterator, chunksize, compression, thousands, decimal, lineterminator, quotechar, quoting, doublequote, escapechar, comment, encoding, dialect, tupleize_cols, error_bad_lines, warn_bad_lines, delim_whitespace, low_memory, memory_map, float_precision)\u001b[0m\n\u001b[0;32m    700\u001b[0m                     skip_blank_lines=skip_blank_lines)\n\u001b[0;32m    701\u001b[0m \u001b[1;33m\u001b[0m\u001b[0m\n\u001b[1;32m--> 702\u001b[1;33m         \u001b[1;32mreturn\u001b[0m \u001b[0m_read\u001b[0m\u001b[1;33m(\u001b[0m\u001b[0mfilepath_or_buffer\u001b[0m\u001b[1;33m,\u001b[0m \u001b[0mkwds\u001b[0m\u001b[1;33m)\u001b[0m\u001b[1;33m\u001b[0m\u001b[1;33m\u001b[0m\u001b[0m\n\u001b[0m\u001b[0;32m    703\u001b[0m \u001b[1;33m\u001b[0m\u001b[0m\n\u001b[0;32m    704\u001b[0m     \u001b[0mparser_f\u001b[0m\u001b[1;33m.\u001b[0m\u001b[0m__name__\u001b[0m \u001b[1;33m=\u001b[0m \u001b[0mname\u001b[0m\u001b[1;33m\u001b[0m\u001b[1;33m\u001b[0m\u001b[0m\n",
      "\u001b[1;32m~\\Anaconda3\\lib\\site-packages\\pandas\\io\\parsers.py\u001b[0m in \u001b[0;36m_read\u001b[1;34m(filepath_or_buffer, kwds)\u001b[0m\n\u001b[0;32m    427\u001b[0m \u001b[1;33m\u001b[0m\u001b[0m\n\u001b[0;32m    428\u001b[0m     \u001b[1;31m# Create the parser.\u001b[0m\u001b[1;33m\u001b[0m\u001b[1;33m\u001b[0m\u001b[1;33m\u001b[0m\u001b[0m\n\u001b[1;32m--> 429\u001b[1;33m     \u001b[0mparser\u001b[0m \u001b[1;33m=\u001b[0m \u001b[0mTextFileReader\u001b[0m\u001b[1;33m(\u001b[0m\u001b[0mfilepath_or_buffer\u001b[0m\u001b[1;33m,\u001b[0m \u001b[1;33m**\u001b[0m\u001b[0mkwds\u001b[0m\u001b[1;33m)\u001b[0m\u001b[1;33m\u001b[0m\u001b[1;33m\u001b[0m\u001b[0m\n\u001b[0m\u001b[0;32m    430\u001b[0m \u001b[1;33m\u001b[0m\u001b[0m\n\u001b[0;32m    431\u001b[0m     \u001b[1;32mif\u001b[0m \u001b[0mchunksize\u001b[0m \u001b[1;32mor\u001b[0m \u001b[0miterator\u001b[0m\u001b[1;33m:\u001b[0m\u001b[1;33m\u001b[0m\u001b[1;33m\u001b[0m\u001b[0m\n",
      "\u001b[1;32m~\\Anaconda3\\lib\\site-packages\\pandas\\io\\parsers.py\u001b[0m in \u001b[0;36m__init__\u001b[1;34m(self, f, engine, **kwds)\u001b[0m\n\u001b[0;32m    893\u001b[0m             \u001b[0mself\u001b[0m\u001b[1;33m.\u001b[0m\u001b[0moptions\u001b[0m\u001b[1;33m[\u001b[0m\u001b[1;34m'has_index_names'\u001b[0m\u001b[1;33m]\u001b[0m \u001b[1;33m=\u001b[0m \u001b[0mkwds\u001b[0m\u001b[1;33m[\u001b[0m\u001b[1;34m'has_index_names'\u001b[0m\u001b[1;33m]\u001b[0m\u001b[1;33m\u001b[0m\u001b[1;33m\u001b[0m\u001b[0m\n\u001b[0;32m    894\u001b[0m \u001b[1;33m\u001b[0m\u001b[0m\n\u001b[1;32m--> 895\u001b[1;33m         \u001b[0mself\u001b[0m\u001b[1;33m.\u001b[0m\u001b[0m_make_engine\u001b[0m\u001b[1;33m(\u001b[0m\u001b[0mself\u001b[0m\u001b[1;33m.\u001b[0m\u001b[0mengine\u001b[0m\u001b[1;33m)\u001b[0m\u001b[1;33m\u001b[0m\u001b[1;33m\u001b[0m\u001b[0m\n\u001b[0m\u001b[0;32m    896\u001b[0m \u001b[1;33m\u001b[0m\u001b[0m\n\u001b[0;32m    897\u001b[0m     \u001b[1;32mdef\u001b[0m \u001b[0mclose\u001b[0m\u001b[1;33m(\u001b[0m\u001b[0mself\u001b[0m\u001b[1;33m)\u001b[0m\u001b[1;33m:\u001b[0m\u001b[1;33m\u001b[0m\u001b[1;33m\u001b[0m\u001b[0m\n",
      "\u001b[1;32m~\\Anaconda3\\lib\\site-packages\\pandas\\io\\parsers.py\u001b[0m in \u001b[0;36m_make_engine\u001b[1;34m(self, engine)\u001b[0m\n\u001b[0;32m   1120\u001b[0m     \u001b[1;32mdef\u001b[0m \u001b[0m_make_engine\u001b[0m\u001b[1;33m(\u001b[0m\u001b[0mself\u001b[0m\u001b[1;33m,\u001b[0m \u001b[0mengine\u001b[0m\u001b[1;33m=\u001b[0m\u001b[1;34m'c'\u001b[0m\u001b[1;33m)\u001b[0m\u001b[1;33m:\u001b[0m\u001b[1;33m\u001b[0m\u001b[1;33m\u001b[0m\u001b[0m\n\u001b[0;32m   1121\u001b[0m         \u001b[1;32mif\u001b[0m \u001b[0mengine\u001b[0m \u001b[1;33m==\u001b[0m \u001b[1;34m'c'\u001b[0m\u001b[1;33m:\u001b[0m\u001b[1;33m\u001b[0m\u001b[1;33m\u001b[0m\u001b[0m\n\u001b[1;32m-> 1122\u001b[1;33m             \u001b[0mself\u001b[0m\u001b[1;33m.\u001b[0m\u001b[0m_engine\u001b[0m \u001b[1;33m=\u001b[0m \u001b[0mCParserWrapper\u001b[0m\u001b[1;33m(\u001b[0m\u001b[0mself\u001b[0m\u001b[1;33m.\u001b[0m\u001b[0mf\u001b[0m\u001b[1;33m,\u001b[0m \u001b[1;33m**\u001b[0m\u001b[0mself\u001b[0m\u001b[1;33m.\u001b[0m\u001b[0moptions\u001b[0m\u001b[1;33m)\u001b[0m\u001b[1;33m\u001b[0m\u001b[1;33m\u001b[0m\u001b[0m\n\u001b[0m\u001b[0;32m   1123\u001b[0m         \u001b[1;32melse\u001b[0m\u001b[1;33m:\u001b[0m\u001b[1;33m\u001b[0m\u001b[1;33m\u001b[0m\u001b[0m\n\u001b[0;32m   1124\u001b[0m             \u001b[1;32mif\u001b[0m \u001b[0mengine\u001b[0m \u001b[1;33m==\u001b[0m \u001b[1;34m'python'\u001b[0m\u001b[1;33m:\u001b[0m\u001b[1;33m\u001b[0m\u001b[1;33m\u001b[0m\u001b[0m\n",
      "\u001b[1;32m~\\Anaconda3\\lib\\site-packages\\pandas\\io\\parsers.py\u001b[0m in \u001b[0;36m__init__\u001b[1;34m(self, src, **kwds)\u001b[0m\n\u001b[0;32m   1851\u001b[0m         \u001b[0mkwds\u001b[0m\u001b[1;33m[\u001b[0m\u001b[1;34m'usecols'\u001b[0m\u001b[1;33m]\u001b[0m \u001b[1;33m=\u001b[0m \u001b[0mself\u001b[0m\u001b[1;33m.\u001b[0m\u001b[0musecols\u001b[0m\u001b[1;33m\u001b[0m\u001b[1;33m\u001b[0m\u001b[0m\n\u001b[0;32m   1852\u001b[0m \u001b[1;33m\u001b[0m\u001b[0m\n\u001b[1;32m-> 1853\u001b[1;33m         \u001b[0mself\u001b[0m\u001b[1;33m.\u001b[0m\u001b[0m_reader\u001b[0m \u001b[1;33m=\u001b[0m \u001b[0mparsers\u001b[0m\u001b[1;33m.\u001b[0m\u001b[0mTextReader\u001b[0m\u001b[1;33m(\u001b[0m\u001b[0msrc\u001b[0m\u001b[1;33m,\u001b[0m \u001b[1;33m**\u001b[0m\u001b[0mkwds\u001b[0m\u001b[1;33m)\u001b[0m\u001b[1;33m\u001b[0m\u001b[1;33m\u001b[0m\u001b[0m\n\u001b[0m\u001b[0;32m   1854\u001b[0m         \u001b[0mself\u001b[0m\u001b[1;33m.\u001b[0m\u001b[0munnamed_cols\u001b[0m \u001b[1;33m=\u001b[0m \u001b[0mself\u001b[0m\u001b[1;33m.\u001b[0m\u001b[0m_reader\u001b[0m\u001b[1;33m.\u001b[0m\u001b[0munnamed_cols\u001b[0m\u001b[1;33m\u001b[0m\u001b[1;33m\u001b[0m\u001b[0m\n\u001b[0;32m   1855\u001b[0m \u001b[1;33m\u001b[0m\u001b[0m\n",
      "\u001b[1;32mpandas/_libs/parsers.pyx\u001b[0m in \u001b[0;36mpandas._libs.parsers.TextReader.__cinit__\u001b[1;34m()\u001b[0m\n",
      "\u001b[1;32mpandas/_libs/parsers.pyx\u001b[0m in \u001b[0;36mpandas._libs.parsers.TextReader._setup_parser_source\u001b[1;34m()\u001b[0m\n",
      "\u001b[1;31mFileNotFoundError\u001b[0m: [Errno 2] File b'C:/Users/Yuvan/Desktop/INTEL AI bootcamp/MAIN PROJECT/Yuvan DS/cvd.csv' does not exist: b'C:/Users/Yuvan/Desktop/INTEL AI bootcamp/MAIN PROJECT/Yuvan DS/cvd.csv'"
     ]
    }
   ],
   "source": [
    "#To read the CSV to the dataframe\n",
    "df = pd.read_csv(\"C:/Users/Yuvan/Desktop/INTEL AI bootcamp/MAIN PROJECT/Yuvan DS/cvd.csv\")\n",
    "names = [\"age\",\"sex\",\"cp\",\"trestbps\",\"chol\",\"fbs\",\"restecg\",\"thalach\",\"exang\",\"oldpeak\",\"ca\",\"thal\",\"heart_disease\"]\n",
    "df.columns = names\n",
    "#Print and check the data using head command\n",
    "print(df.head())"
   ]
  },
  {
   "cell_type": "code",
   "execution_count": 3,
   "metadata": {},
   "outputs": [
    {
     "name": "stdout",
     "output_type": "stream",
     "text": [
      "<class 'pandas.core.frame.DataFrame'>\n",
      "RangeIndex: 303 entries, 0 to 302\n",
      "Data columns (total 13 columns):\n",
      " #   Column         Non-Null Count  Dtype  \n",
      "---  ------         --------------  -----  \n",
      " 0   age            303 non-null    float64\n",
      " 1   sex            303 non-null    int64  \n",
      " 2   cp             303 non-null    int64  \n",
      " 3   trestbps       303 non-null    int64  \n",
      " 4   chol           303 non-null    int64  \n",
      " 5   fbs            303 non-null    int64  \n",
      " 6   restecg        303 non-null    int64  \n",
      " 7   thalach        303 non-null    int64  \n",
      " 8   exang          303 non-null    int64  \n",
      " 9   oldpeak        303 non-null    int64  \n",
      " 10  ca             303 non-null    int64  \n",
      " 11  thal           303 non-null    int64  \n",
      " 12  heart_disease  303 non-null    object \n",
      "dtypes: float64(1), int64(11), object(1)\n",
      "memory usage: 30.9+ KB\n"
     ]
    }
   ],
   "source": [
    "#Check the basic info of the data frame -for Null values and the data types\n",
    "df.info()"
   ]
  },
  {
   "cell_type": "code",
   "execution_count": 4,
   "metadata": {},
   "outputs": [
    {
     "name": "stdout",
     "output_type": "stream",
     "text": [
      "yes    165\n",
      "no     138\n",
      "Name: heart_disease, dtype: int64\n",
      "1    165\n",
      "2    138\n",
      "Name: heart_disease, dtype: int64\n"
     ]
    }
   ],
   "source": [
    "#To get the total no of heart disease patients\n",
    "print(df['heart_disease'].value_counts())\n",
    "\n",
    "label_encode = {\"heart_disease\": {\"yes\":1, \"no\":2}}\n",
    "\n",
    "df.replace(label_encode,inplace=True)\n",
    "\n",
    "print(df['heart_disease'].value_counts())\n",
    "\n"
   ]
  },
  {
   "cell_type": "code",
   "execution_count": 5,
   "metadata": {
    "scrolled": true
   },
   "outputs": [
    {
     "name": "stdout",
     "output_type": "stream",
     "text": [
      "   age  sex  cp  trestbps  chol  fbs  restecg  thalach  exang  oldpeak  ca  \\\n",
      "0  3.0    1   3         2     2    1        0        3      0        3   1   \n",
      "1  1.0    1   2         2     2    0        1        3      0        4   2   \n",
      "2  2.0    0   1         2     2    0        0        4      0        2   2   \n",
      "3  3.0    1   1         2     2    0        1        4      0        1   2   \n",
      "4  3.0    0   0         2     3    0        1        4      1        1   2   \n",
      "\n",
      "   thal  heart_disease  \n",
      "0     1              1  \n",
      "1     1              1  \n",
      "2     1              1  \n",
      "3     1              1  \n",
      "4     1              1  \n"
     ]
    }
   ],
   "source": [
    "# To display the first  rows of the data frame to know the values\n",
    "print(df.head())"
   ]
  },
  {
   "cell_type": "code",
   "execution_count": 6,
   "metadata": {
    "scrolled": false
   },
   "outputs": [],
   "source": [
    "#Import the Knn\n",
    "from sklearn.neighbors import KNeighborsClassifier"
   ]
  },
  {
   "cell_type": "code",
   "execution_count": 7,
   "metadata": {},
   "outputs": [
    {
     "name": "stdout",
     "output_type": "stream",
     "text": [
      "Enter the age: 1\n",
      "enter the gender: 0\n",
      "enter the chest pain type: 2\n",
      "enter the resting blood pressure in Hg: 3\n",
      "enter the serum cholestrol in mg/dl: 3\n",
      "enter the fasting blood pressure: 0\n",
      "enter the resting electrocardiographic results: 2\n",
      "enter the maximum heart rate achieved: 3\n",
      "enter the excercise induced angina: 0\n",
      "enter the ST depresssion induced by excercise: 4\n",
      "enter the number of major vessels (0-3) colored by flourosopy: 1\n",
      "3 = normal; 6 = fixed defect; 7 = reversable defect3\n",
      "[1]\n",
      "ages range = 25 – 40 years = (1), 40 – 55 years= (2), 55-70 years = (3),70 – 85 years = (4).\n",
      "sex = 1 = male; 0 = female\n",
      "cp = chest pain level\n",
      "cp level = 0,1,2,3\n",
      "trestbps = resting blood pressure (in mm Hg on admission to the hospital)\n",
      "trestbps range = 90 – 120 (1), 120 – 150 (2), 150 – 180 (3), 180 – 210 (4)\n",
      "chol = serum cholestoral in mg/dl\n",
      "chol range = 100 – 200 (1), 200 – 300 (2), 300 – 400 (3), 400 – 500 (4)\n",
      "fbs = fasting blood sugar &gt; 120 mg/dl (1 = true; 0 = false)\n",
      "restecg = resting electrocardiographic results\n",
      "restecg level = o,1,2\n",
      "thalach = maximum heart rate achieved\n",
      "thalach range = 70 – 100 (1) , 100 – 130 (2), 130 – 160(3), 160 – 190 (4), 190 – 220 (5)\n",
      "exang = exercise induced angina (1 = yes; 0 = no)\n",
      "oldpeak = ST depression induced by exercise relative to rest\n",
      "oldpeak range  = 0 – 1 (1), 1 – 2(2), 2 – 3(3), 3 – 4 (4), 4 – 5(5) \n",
      "ca = number of major vessels (0-3) colored by flourosopy\n",
      "thal = 3 = normal; 6 = fixed defect; 7 = reversable defect\n",
      "PLEASE FILL THE INFORMAION IN THE CELL AFTER THE INSTRUCTIONS GIVEN IN THE OUTPUT HERE SO YOU CAN FIND OUT IF THERE IS ANY AILMENT YOU HAVE IN YOUR HEART\n",
      "PS = THE FOLLOWING DATA FOR THE MODEL WAS PROVIDED BY A TRUSTED EDUCATIONAL WEBSITE AND THE OUTPUTS OF THE MODEL CANNOT BE VERY ACCURATE AS IT IS A COMPUTER'S PERSPECTIVE.\n",
      "THE PERSON SHOULD NOT PANICK BASED ON THE OUTPUT OF THE MODEL AS IT IS JUST A WARNING/SUGGESTION FOR YOU TO VISIT A DOCTOR \n",
      "YES, symptoms can be detected = 1, No, there is no symptoms detected = 2\n"
     ]
    }
   ],
   "source": [
    "\n",
    "KNN = KNeighborsClassifier()\n",
    "\n",
    "x = df[['age','sex','cp','trestbps','chol','fbs','restecg','thalach','exang','oldpeak','ca','thal']]\n",
    "y = df['heart_disease']\n",
    "\n",
    "\n",
    "#print(x.head())\n",
    "#print(y.head())\n",
    "\n",
    "\n",
    "KNN = KNN.fit(x,y)\n",
    "\n",
    "# please give the information here  in the prompt \n",
    "test = pd.DataFrame()\n",
    "test['age'] = [float(input(\"Enter the age: \"))]\n",
    "test['sex'] = [str(input(\"enter the gender: \"))]\n",
    "test['cp'] = [str(input(\"enter the chest pain type: \"))]\n",
    "test['trestbps'] = [float(input(\"enter the resting blood pressure in Hg: \"))]\n",
    "test['chol'] = [float(input(\"enter the serum cholestrol in mg/dl: \"))]\n",
    "test['fbs'] = [float(input(\"enter the fasting blood pressure: \"))]\n",
    "test['restecg'] = [float(input(\"enter the resting electrocardiographic results: \"))]\n",
    "test['thalach'] = [float(input(\"enter the maximum heart rate achieved: \"))]\n",
    "test['exang'] = [float(input(\"enter the excercise induced angina: \"))]\n",
    "test['oldpeak'] = [float(input(\"enter the ST depresssion induced by excercise: \"))]\n",
    "test['ca'] = [float(input(\"enter the number of major vessels (0-3) colored by flourosopy: \"))]\n",
    "test['thal'] = [float(input(\"3 = normal; 6 = fixed defect; 7 = reversable defect\"))]\n",
    "predict_flower = KNN.predict(test)\n",
    "print(predict_flower)\n",
    "\n",
    "# Print predict_flower\n",
    "\n",
    "\n",
    "print(\"ages range = 25 – 40 years = (1), 40 – 55 years= (2), 55-70 years = (3),70 – 85 years = (4).\")\n",
    "print(\"sex = 1 = male; 0 = female\")\n",
    "print(\"cp = chest pain level\")\n",
    "print(\"cp level = 0,1,2,3\")\n",
    "print(\"trestbps = resting blood pressure (in mm Hg on admission to the hospital)\")\n",
    "print(\"trestbps range = 90 – 120 (1), 120 – 150 (2), 150 – 180 (3), 180 – 210 (4)\")\n",
    "print(\"chol = serum cholestoral in mg/dl\")\n",
    "print(\"chol range = 100 – 200 (1), 200 – 300 (2), 300 – 400 (3), 400 – 500 (4)\")\n",
    "print(\"fbs = fasting blood sugar &gt; 120 mg/dl (1 = true; 0 = false)\")\n",
    "print(\"restecg = resting electrocardiographic results\")\n",
    "print(\"restecg level = o,1,2\")\n",
    "print(\"thalach = maximum heart rate achieved\")\n",
    "print(\"thalach range = 70 – 100 (1) , 100 – 130 (2), 130 – 160(3), 160 – 190 (4), 190 – 220 (5)\")\n",
    "print(\"exang = exercise induced angina (1 = yes; 0 = no)\")\n",
    "print(\"oldpeak = ST depression induced by exercise relative to rest\")\n",
    "print(\"oldpeak range  = 0 – 1 (1), 1 – 2(2), 2 – 3(3), 3 – 4 (4), 4 – 5(5) \")\n",
    "print(\"ca = number of major vessels (0-3) colored by flourosopy\")\n",
    "print(\"thal = 3 = normal; 6 = fixed defect; 7 = reversable defect\")\n",
    "print(\"PLEASE FILL THE INFORMAION IN THE CELL AFTER THE INSTRUCTIONS GIVEN IN THE OUTPUT HERE SO YOU CAN FIND OUT IF THERE IS ANY AILMENT YOU HAVE IN YOUR HEART\")\n",
    "print(\"PS = THE FOLLOWING DATA FOR THE MODEL WAS PROVIDED BY A TRUSTED EDUCATIONAL WEBSITE AND THE OUTPUTS OF THE MODEL CANNOT BE VERY ACCURATE AS IT IS A COMPUTER'S PERSPECTIVE.\")\n",
    "print(\"THE PERSON SHOULD NOT PANICK BASED ON THE OUTPUT OF THE MODEL AS IT IS JUST A WARNING/SUGGESTION FOR YOU TO VISIT A DOCTOR \")\n",
    "print (\"YES, symptoms can be detected = 1, No, there is no symptoms detected = 2\")\n",
    "\n",
    "\n",
    "\n"
   ]
  },
  {
   "cell_type": "code",
   "execution_count": 21,
   "metadata": {},
   "outputs": [],
   "source": [
    "# The patient does not have any cardiovascular conditions if the number displayed is 1, if the number displayed is 2 then the\n",
    "# patient needs imediate medical advice"
   ]
  },
  {
   "cell_type": "code",
   "execution_count": 8,
   "metadata": {},
   "outputs": [
    {
     "name": "stdout",
     "output_type": "stream",
     "text": [
      "<class 'pandas.core.frame.DataFrame'>\n",
      "RangeIndex: 303 entries, 0 to 302\n",
      "Data columns (total 13 columns):\n",
      " #   Column         Non-Null Count  Dtype  \n",
      "---  ------         --------------  -----  \n",
      " 0   age            303 non-null    float64\n",
      " 1   sex            303 non-null    int64  \n",
      " 2   cp             303 non-null    int64  \n",
      " 3   trestbps       303 non-null    int64  \n",
      " 4   chol           303 non-null    int64  \n",
      " 5   fbs            303 non-null    int64  \n",
      " 6   restecg        303 non-null    int64  \n",
      " 7   thalach        303 non-null    int64  \n",
      " 8   exang          303 non-null    int64  \n",
      " 9   oldpeak        303 non-null    int64  \n",
      " 10  ca             303 non-null    int64  \n",
      " 11  thal           303 non-null    int64  \n",
      " 12  heart_disease  303 non-null    int64  \n",
      "dtypes: float64(1), int64(12)\n",
      "memory usage: 30.9 KB\n"
     ]
    }
   ],
   "source": [
    "df.info()"
   ]
  },
  {
   "cell_type": "code",
   "execution_count": 9,
   "metadata": {},
   "outputs": [],
   "source": [
    "from sklearn.preprocessing import StandardScaler"
   ]
  },
  {
   "cell_type": "code",
   "execution_count": 10,
   "metadata": {},
   "outputs": [],
   "source": [
    "#To import the train test split to train and test the data\n",
    "from sklearn.model_selection import train_test_split"
   ]
  },
  {
   "cell_type": "code",
   "execution_count": 11,
   "metadata": {},
   "outputs": [],
   "source": [
    "#Splitting the data to train and test by 70 and 30\n",
    "x_train, x_test, y_train, y_test = train_test_split(x, y, test_size = 0.3,random_state=1)\n",
    "scaler = StandardScaler()\n",
    "x_train_scale = scaler.fit_transform(x_train)\n",
    "x_test_scale = scaler.transform(x_test)"
   ]
  },
  {
   "cell_type": "code",
   "execution_count": 12,
   "metadata": {},
   "outputs": [
    {
     "name": "stdout",
     "output_type": "stream",
     "text": [
      "0.8681318681318682\n"
     ]
    }
   ],
   "source": [
    "#To check the accuracy of the prediction\n",
    "accuracy = KNN.score(x_test_scale, y_test)\n",
    "print(accuracy)\n"
   ]
  },
  {
   "cell_type": "code",
   "execution_count": 13,
   "metadata": {},
   "outputs": [
    {
     "name": "stdout",
     "output_type": "stream",
     "text": [
      "[[4 2]\n",
      " [1 3]]\n"
     ]
    }
   ],
   "source": [
    "#Checking the performance by importing confusion matrix\n",
    "from sklearn.metrics import confusion_matrix\n",
    "expected = [1, 1, 0, 1, 0, 0, 1, 0, 0, 0]\n",
    "predicted = [1, 0, 0, 1, 0, 0, 1, 1, 1, 0]\n",
    "results = confusion_matrix(expected, predicted)\n",
    "print(results)"
   ]
  },
  {
   "cell_type": "code",
   "execution_count": 33,
   "metadata": {},
   "outputs": [
    {
     "data": {
      "image/png": "[encoded data removed]",
      "text/plain": [
       "<Figure size 432x288 with 2 Axes>"
      ]
     },
     "metadata": {},
     "output_type": "display_data"
    }
   ],
   "source": [
    "#To visualize in the heatmap\n",
    "import numpy as np; np.random.seed(0)\n",
    "import seaborn as sns; sns.set()\n",
    "uniform_data = np.random.rand(10, 12)\n",
    "ax = sns.heatmap(uniform_data,cmap=\"icefire\")"
   ]
  },
  {
   "cell_type": "code",
   "execution_count": 34,
   "metadata": {},
   "outputs": [
    {
     "data": {
      "image/png": "[encoded data removed]",
      "text/plain": [
       "<Figure size 432x288 with 2 Axes>"
      ]
     },
     "metadata": {},
     "output_type": "display_data"
    }
   ],
   "source": [
    "ax = sns.heatmap(uniform_data, cmap=\"plasma\", vmin=0, vmax=1)"
   ]
  },
  {
   "cell_type": "code",
   "execution_count": null,
   "metadata": {},
   "outputs": [],
   "source": [
    "# The above model will help to predict the cardiovascular diesease in an individual."
   ]
  }
 ],
 "metadata": {
  "kernelspec": {
   "display_name": "Python 3",
   "language": "python",
   "name": "python3"
  },
  "language_info": {
   "codemirror_mode": {
    "name": "ipython",
    "version": 3
   },
   "file_extension": ".py",
   "mimetype": "text/x-python",
   "name": "python",
   "nbconvert_exporter": "python",
   "pygments_lexer": "ipython3",
   "version": "3.7.3"
  }
 },
 "nbformat": 4,
 "nbformat_minor": 4
}
